{
 "cells": [
  {
   "cell_type": "markdown",
   "metadata": {},
   "source": [
    "### View/Create Projects"
   ]
  },
  {
   "cell_type": "code",
   "execution_count": null,
   "metadata": {},
   "outputs": [],
   "source": [
    "from auger.api.utils.context import Context\n",
    "from auger.api.project import Project\n",
    "\n",
    "#view projects and select project_name\n",
    "ctx = Context()\n",
    "for project in iter(Project(ctx).list()):\n",
    "    print(project.get('name'))\n",
    "    \n",
    "#create project\n",
    "project_name = 'iris_project'\n",
    "project = Project(ctx, project_name).create()\n"
   ]
  },
  {
   "cell_type": "markdown",
   "metadata": {},
   "source": [
    "### View/Create Datasets"
   ]
  },
  {
   "cell_type": "code",
   "execution_count": null,
   "metadata": {},
   "outputs": [],
   "source": [
    "from auger.api.dataset import DataSet\n",
    "from auger.api.utils.context import Context\n",
    "from auger.api.project import Project\n",
    "ctx = Context()\n",
    "project = Project(ctx, project_name)\n",
    "dataset_name = 'Iris'\n",
    "for dataset in iter(DataSet(ctx, project).list()):\n",
    "    print(dataset.get('name'))\n",
    "    \n",
    "\n",
    "dataset = DataSet(ctx, project).create('iris.csv')\n",
    "ctx.log('Created dataset %s' % dataset.name)\n",
    "\n"
   ]
  },
  {
   "cell_type": "markdown",
   "metadata": {},
   "source": [
    "### Start and Experiment"
   ]
  },
  {
   "cell_type": "code",
   "execution_count": null,
   "metadata": {},
   "outputs": [],
   "source": [
    "from auger.api.project import Project\n",
    "from auger.api.experiment import Experiment\n",
    "from auger.api.utils.context import Context\n",
    "project_name = '<project name>'\n",
    "dataset_name = '<dataset name>'\n",
    "ctx = Context()\n",
    "project = Project(ctx, project_name)\n",
    "dataset = DataSet(ctx, project, dataset_name)\n",
    "experiment_name, session_id = Experiment(ctx, dataset).start()"
   ]
  },
  {
   "cell_type": "markdown",
   "metadata": {},
   "source": [
    "### Display Leaderboard"
   ]
  },
  {
   "cell_type": "code",
   "execution_count": null,
   "metadata": {},
   "outputs": [],
   "source": [
    "\n",
    "leaderboard, status = Experiment(ctx, dataset, eperiment_name).leaderboard(session_id)\n",
    "while status != 'completed':\n",
    "    print(leaderboard)\n",
    "    print(status)\n",
    "    leaderboard, status = Experiment(ctx, dataset, eperiment_name).leaderboard(session_id)"
   ]
  },
  {
   "cell_type": "markdown",
   "metadata": {},
   "source": [
    "### Deploy Model"
   ]
  },
  {
   "cell_type": "code",
   "execution_count": null,
   "metadata": {},
   "outputs": [],
   "source": [
    "from auger.api.model import Model\n",
    "from auger.api.utils.context import Context\n",
    "\n",
    "model_id = leaderboard[10]['model id']\n",
    "ctx = Context()\n",
    "project = Project(ctx, project_name)\n",
    "# deploys model locally\n",
    "Model(ctx, project).deploy(model_id, True)"
   ]
  },
  {
   "cell_type": "markdown",
   "metadata": {},
   "source": [
    "### Get Predictions"
   ]
  },
  {
   "cell_type": "code",
   "execution_count": null,
   "metadata": {},
   "outputs": [],
   "source": [
    "ctx = Context()\n",
    "project = Project(ctx, project_name)\n",
    "# predict on the locally deployed model\n",
    "Model(ctx, project).predict('./iris_predict.csv', model_id,None, True)\n",
    "# result will be stored in ../iris_predicted_predicted.csv"
   ]
  }
 ],
 "metadata": {
  "kernelspec": {
   "display_name": "Python 3",
   "language": "python",
   "name": "python3"
  },
  "language_info": {
   "codemirror_mode": {
    "name": "ipython",
    "version": 3
   },
   "file_extension": ".py",
   "mimetype": "text/x-python",
   "name": "python",
   "nbconvert_exporter": "python",
   "pygments_lexer": "ipython3",
   "version": "3.7.2"
  }
 },
 "nbformat": 4,
 "nbformat_minor": 2
}
